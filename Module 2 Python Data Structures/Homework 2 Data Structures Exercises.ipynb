{
 "cells": [
  {
   "cell_type": "markdown",
   "metadata": {},
   "source": [
    "# Homework 2 Data Structures Exercises"
   ]
  },
  {
   "cell_type": "markdown",
   "metadata": {},
   "source": [
    "1.) Take the following two lists. Create a third list by picking a odd-index elements from the first list and even-index elements from the second.\n",
    "\n",
    "listOne = [3, 6, 9, 12, 15, 18, 21]\n",
    "\n",
    "\n",
    "listTwo = [4, 8, 12, 16, 20, 24, 28]\n"
   ]
  },
  {
   "cell_type": "code",
   "execution_count": 4,
   "metadata": {},
   "outputs": [
    {
     "name": "stdout",
     "output_type": "stream",
     "text": [
      "Elements at Odd Indexes as list one: \n",
      "[6, 12, 18]\n",
      "Elements at Even Indexes as list two: \n",
      "[4, 12, 20, 28]\n",
      "Elements at Odd and Even Indexes from list one and two as list three: \n",
      "[6, 12, 18, 4, 12, 20, 28]\n"
     ]
    }
   ],
   "source": [
    "listOne = [3, 6, 9, 12, 15, 18, 21]\n",
    "listTwo = [4, 8, 12, 16, 20, 24, 28]\n",
    "listThree = list()\n",
    "\n",
    "oddIndex = listOne[1::2]\n",
    "print(\"Elements at Odd Indexes as list one: \")\n",
    "print(oddIndex)\n",
    "evenIndex = listTwo[0::2]\n",
    "print(\"Elements at Even Indexes as list two: \")\n",
    "print(evenIndex)\n",
    "print(\"Elements at Odd and Even Indexes from list one and two as list three: \")\n",
    "print(oddIndex + evenIndex)"
   ]
  },
  {
   "cell_type": "markdown",
   "metadata": {},
   "source": [
    "2.) Take the following list. Slice it into three equal chunks and reverse each list.\n",
    "\n",
    "sampleList = [11, 45, 8, 23, 14, 12, 78, 45, 89]"
   ]
  },
  {
   "cell_type": "code",
   "execution_count": 5,
   "metadata": {},
   "outputs": [
    {
     "name": "stdout",
     "output_type": "stream",
     "text": [
      "Slice 1: \n",
      "[8, 45, 11]\n",
      "Slice 2: \n",
      "[12, 14, 23]\n",
      "Slice 3: \n",
      "[89, 45, 78]\n"
     ]
    }
   ],
   "source": [
    "sampleList = [11, 45, 8, 23, 14, 12, 78, 45, 89]\n",
    "\n",
    "slice1 = sampleList[0:3]\n",
    "slice2 = sampleList[3:6]\n",
    "slice3 = sampleList[6:9]\n",
    "\n",
    "print(\"Slice 1: \")\n",
    "print(slice1[::-1])\n",
    "print(\"Slice 2: \")\n",
    "print(slice2[::-1])\n",
    "print(\"Slice 3: \")\n",
    "print(slice3[::-1])"
   ]
  },
  {
   "cell_type": "markdown",
   "metadata": {},
   "source": [
    "3.) Iterate through a given list and check if a given element already exists in a dictionary as a key’s value. If not, delete it from the list.\n",
    "\n",
    "rollNumber = [47, 64, 69, 37, 76, 83, 95, 97]\n",
    "\n",
    "sampleDict ={'Zach':47, 'Emma':69, 'Kelly':76, 'Jason':97}"
   ]
  },
  {
   "cell_type": "code",
   "execution_count": 10,
   "metadata": {},
   "outputs": [
    {
     "name": "stdout",
     "output_type": "stream",
     "text": [
      " RollNumber List:  [47, 64, 69, 37, 76, 83, 95, 97]\n",
      " SampleDict List:  {'Zach': 47, 'Emma': 69, 'Kelly': 76, 'Jason': 97}\n",
      " List after removing unwanted numbers and names:  [47, 69, 76, 97]\n"
     ]
    }
   ],
   "source": [
    "rollNumber = [47, 64, 69, 37, 76, 83, 95, 97]\n",
    "print(\" RollNumber List: \", rollNumber)\n",
    "sampleDict ={'Zach':47, 'Emma':69, 'Kelly':76, 'Jason':97}\n",
    "print(\" SampleDict List: \", sampleDict)\n",
    "\n",
    "\n",
    "rollNumber[:] = [item for item in rollNumber if item in sampleDict.values()]\n",
    "print(\" List after removing unwanted numbers and names: \", rollNumber)"
   ]
  },
  {
   "cell_type": "markdown",
   "metadata": {},
   "source": [
    "4.) Choose all the valid string creation in python \n",
    "\n",
    "str1 = “str1”\n",
    "\n",
    "str1 = ‘str1’\n",
    "\n",
    "str1 = ”’str1”’\n",
    "\n",
    "str1 = str(“str1”)"
   ]
  },
  {
   "cell_type": "markdown",
   "metadata": {},
   "source": [
    "All options are considered valid string creation methods in python."
   ]
  },
  {
   "cell_type": "markdown",
   "metadata": {},
   "source": [
    "5.) What is the output of the following code and why?\n",
    "\n",
    "print(bool(0), bool(3.14159), bool(-3), bool(1.0+1j))"
   ]
  },
  {
   "cell_type": "code",
   "execution_count": 2,
   "metadata": {},
   "outputs": [
    {
     "name": "stdout",
     "output_type": "stream",
     "text": [
      "False True True True\n"
     ]
    }
   ],
   "source": [
    "print(bool(0), bool(3.14159), bool(-3), bool(1.0+1j))"
   ]
  },
  {
   "cell_type": "markdown",
   "metadata": {},
   "source": [
    "This is the answer because boolean is only false when the value is 0 any other time it is true in this case with 3.14159, -3, and 1.0+1j are not 0, so the boolean is true."
   ]
  },
  {
   "cell_type": "markdown",
   "metadata": {},
   "source": [
    "6.) What is the data type of print(type(0xFF))"
   ]
  },
  {
   "cell_type": "code",
   "execution_count": 4,
   "metadata": {},
   "outputs": [
    {
     "name": "stdout",
     "output_type": "stream",
     "text": [
      "<class 'int'>\n"
     ]
    }
   ],
   "source": [
    "print(type(0xFF))"
   ]
  },
  {
   "cell_type": "code",
   "execution_count": null,
   "metadata": {},
   "outputs": [],
   "source": []
  }
 ],
 "metadata": {
  "kernelspec": {
   "display_name": "Python 3",
   "language": "python",
   "name": "python3"
  },
  "language_info": {
   "codemirror_mode": {
    "name": "ipython",
    "version": 3
   },
   "file_extension": ".py",
   "mimetype": "text/x-python",
   "name": "python",
   "nbconvert_exporter": "python",
   "pygments_lexer": "ipython3",
   "version": "3.8.5"
  }
 },
 "nbformat": 4,
 "nbformat_minor": 4
}
