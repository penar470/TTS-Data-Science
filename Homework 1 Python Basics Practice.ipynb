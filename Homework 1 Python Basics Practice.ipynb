{
 "cells": [
  {
   "cell_type": "markdown",
   "metadata": {},
   "source": [
    "# Homework 1 Python Basics Practice"
   ]
  },
  {
   "cell_type": "markdown",
   "metadata": {},
   "source": [
    "1.) Accept the user's first and last name and print them in reverse order with a space between them"
   ]
  },
  {
   "cell_type": "code",
   "execution_count": 1,
   "metadata": {},
   "outputs": [
    {
     "name": "stdout",
     "output_type": "stream",
     "text": [
      "Tell me your first name: Luis\n",
      "Tell me your last name: Pena\n",
      "Hello my name is Pena Luis\n"
     ]
    }
   ],
   "source": [
    "firstname = input(\"Tell me your first name: \")\n",
    "lastname = input(\"Tell me your last name: \")\n",
    "print (\"Hello my name is \" + lastname + \" \" + firstname)"
   ]
  },
  {
   "cell_type": "markdown",
   "metadata": {},
   "source": [
    "2.) Accept an integer (n) and compute the value of n+nn+nnn"
   ]
  },
  {
   "cell_type": "code",
   "execution_count": 3,
   "metadata": {},
   "outputs": [
    {
     "name": "stdout",
     "output_type": "stream",
     "text": [
      "Give me any number: 3\n",
      "369\n"
     ]
    }
   ],
   "source": [
    "n = int(input(\"Give me any number: \"))\n",
    "nn = ((n*10) + n)\n",
    "nnn = ((n*100)+(n*10)+n)\n",
    "print(n + nn + nnn)"
   ]
  },
  {
   "cell_type": "markdown",
   "metadata": {},
   "source": [
    "3.) Ask the user \"What country are you from?\" then print the following statement: \"I have heard that [input] is a beautiful country!"
   ]
  },
  {
   "cell_type": "code",
   "execution_count": 6,
   "metadata": {},
   "outputs": [
    {
     "name": "stdout",
     "output_type": "stream",
     "text": [
      "What country are you from:Mexico\n",
      "I have heard that Mexico is a beautiful country. \n"
     ]
    }
   ],
   "source": [
    "country = str(input(\"What country are you from:\"))\n",
    "print(\"I have heard that \" + country + \" is a beautiful country. \")"
   ]
  },
  {
   "cell_type": "markdown",
   "metadata": {},
   "source": [
    "4.) What is the output of x AND explain why that is the output for:\n",
    "\n",
    "x = 36 / 4 * (3 +  2) * 4 + 2"
   ]
  },
  {
   "cell_type": "code",
   "execution_count": 7,
   "metadata": {},
   "outputs": [
    {
     "name": "stdout",
     "output_type": "stream",
     "text": [
      "182.0\n"
     ]
    }
   ],
   "source": [
    "x = 36 / 4 * (3 + 2) * 4 + 2\n",
    "print(x)"
   ]
  },
  {
   "cell_type": "markdown",
   "metadata": {},
   "source": [
    "This mathematical calculation follows the mathematical order of operations PEMDAS (Parenthesis, Exponents, Multiplication, Division, Addition, Subtraction). In this case, the (3 + 2) would equal 5 as the first step. Then in this case the Multiplication and Division goes by order from left to right, so 36/4 = 9 * (5) * 4 = 180. Then lastly goes the addition/subtraction in this case 180 + 2 = 182."
   ]
  },
  {
   "cell_type": "markdown",
   "metadata": {},
   "source": [
    "5.) Is a string immutable in python?"
   ]
  },
  {
   "cell_type": "markdown",
   "metadata": {},
   "source": [
    "An immutable object is an object that is not changeable and its state cannot be modified once it is created. Meaning in the case of a string once it is created that string will always represent the same value."
   ]
  }
 ],
 "metadata": {
  "kernelspec": {
   "display_name": "Python 3",
   "language": "python",
   "name": "python3"
  },
  "language_info": {
   "codemirror_mode": {
    "name": "ipython",
    "version": 3
   },
   "file_extension": ".py",
   "mimetype": "text/x-python",
   "name": "python",
   "nbconvert_exporter": "python",
   "pygments_lexer": "ipython3",
   "version": "3.8.5"
  }
 },
 "nbformat": 4,
 "nbformat_minor": 4
}
